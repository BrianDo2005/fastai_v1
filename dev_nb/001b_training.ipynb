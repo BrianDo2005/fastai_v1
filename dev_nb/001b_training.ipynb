{
 "cells": [
  {
   "cell_type": "markdown",
   "metadata": {},
   "source": [
    "## Get the data"
   ]
  },
  {
   "cell_type": "markdown",
   "metadata": {},
   "source": [
    "Imports"
   ]
  },
  {
   "cell_type": "code",
   "execution_count": 128,
   "metadata": {},
   "outputs": [],
   "source": [
    "import pdb\n",
    "#For the data\n",
    "from pathlib import Path\n",
    "import requests\n",
    "import pickle, gzip\n",
    "#For the training\n",
    "import numpy as np\n",
    "import matplotlib.pyplot as plt\n",
    "import torch \n",
    "import torch.nn as nn\n",
    "import torch.nn.functional as F\n",
    "from torch import optim\n",
    "from torch.utils.data import TensorDataset\n",
    "from torch.utils.data import DataLoader"
   ]
  },
  {
   "cell_type": "code",
   "execution_count": 20,
   "metadata": {},
   "outputs": [],
   "source": [
    "DATA_PATH = Path('data')\n",
    "PATH = DATA_PATH/'mnist'\n",
    "\n",
    "PATH.mkdir(parents=True, exist_ok=True)"
   ]
  },
  {
   "cell_type": "code",
   "execution_count": 21,
   "metadata": {},
   "outputs": [],
   "source": [
    "URL='http://deeplearning.net/data/mnist/'\n",
    "FILENAME='mnist.pkl.gz'\n",
    "\n",
    "if not (PATH/FILENAME).exists():\n",
    "    content = requests.get(URL+FILENAME).content\n",
    "    (PATH/FILENAME).open('wb').write(content)"
   ]
  },
  {
   "cell_type": "code",
   "execution_count": 22,
   "metadata": {},
   "outputs": [],
   "source": [
    "((x, y), (x_valid, y_valid), _) = pickle.load(gzip.open(PATH/FILENAME, 'rb'), encoding='latin-1')"
   ]
  },
  {
   "cell_type": "code",
   "execution_count": 23,
   "metadata": {},
   "outputs": [],
   "source": [
    "x,y,x_valid,y_valid = map(torch.tensor, (x,y,x_valid,y_valid))"
   ]
  },
  {
   "cell_type": "markdown",
   "metadata": {},
   "source": [
    "Current ds/dl"
   ]
  },
  {
   "cell_type": "code",
   "execution_count": 24,
   "metadata": {},
   "outputs": [],
   "source": [
    "def mnist2image(v): return v.view(1,28,28)"
   ]
  },
  {
   "cell_type": "code",
   "execution_count": 25,
   "metadata": {},
   "outputs": [],
   "source": [
    "from torch.utils.data import Dataset\n",
    "\n",
    "class TransformedDataset(Dataset):\n",
    "    def __init__(self, ds, x_tfms=None, y_tfms=None):\n",
    "        self.ds,self.x_tfms,self.y_tfms = ds,x_tfms,y_tfms\n",
    "        \n",
    "    def __len__(self): return len(self.ds)\n",
    "\n",
    "    def __getitem__(self,i):\n",
    "        x,y = self.ds[i]\n",
    "        if self.x_tfms is not None: x = self.x_tfms(x)\n",
    "        if self.y_tfms is not None: y = self.y_tfms(y)\n",
    "        return x,y"
   ]
  },
  {
   "cell_type": "code",
   "execution_count": 26,
   "metadata": {},
   "outputs": [],
   "source": [
    "default_device = torch.device('cuda')"
   ]
  },
  {
   "cell_type": "code",
   "execution_count": 225,
   "metadata": {},
   "outputs": [],
   "source": [
    "class DeviceDataLoader():\n",
    "    def __init__(self, dl, device):\n",
    "        self.dl,self.device = dl,device\n",
    "        \n",
    "    def __iter__(self):\n",
    "        for b in self.dl: yield [o.to(self.device) for o in b]\n",
    "            \n",
    "    def __len__(self): return len(self.dl)"
   ]
  },
  {
   "cell_type": "code",
   "execution_count": 226,
   "metadata": {},
   "outputs": [],
   "source": [
    "class ModelData():\n",
    "    def __init__(self, train_ds, valid_ds, bs, device):\n",
    "        train_dl = DataLoader(train_ds, batch_size=bs, shuffle=True)\n",
    "        self.train_dl = DeviceDataLoader(train_dl, device)\n",
    "        valid_dl = DataLoader(valid_ds, batch_size=bs*2)\n",
    "        self.valid_dl = DeviceDataLoader(valid_dl, device)"
   ]
  },
  {
   "cell_type": "code",
   "execution_count": 227,
   "metadata": {},
   "outputs": [],
   "source": [
    "bs=64"
   ]
  },
  {
   "cell_type": "code",
   "execution_count": 228,
   "metadata": {},
   "outputs": [],
   "source": [
    "train_tfm_ds = TransformedDataset(TensorDataset(x, y), mnist2image)\n",
    "valid_tfm_ds = TransformedDataset(TensorDataset(x_valid, y_valid), mnist2image)\n",
    "data = ModelData(train_tfm_ds, valid_tfm_ds, bs, default_device)"
   ]
  },
  {
   "cell_type": "markdown",
   "metadata": {},
   "source": [
    "A first model"
   ]
  },
  {
   "cell_type": "code",
   "execution_count": 31,
   "metadata": {},
   "outputs": [],
   "source": [
    "class Simple_CNN(nn.Module):\n",
    "    def __init__(self, actns, kernel_szs, strides):\n",
    "        super().__init__()\n",
    "        self.convs = nn.ModuleList([\n",
    "            nn.Conv2d(actns[i], actns[i+1], kernel_szs[i], stride=strides[i], padding=kernel_szs[i]//2)\n",
    "            for i in range(len(strides))])\n",
    "\n",
    "    def forward(self, xb):\n",
    "        for conv in self.convs: xb = F.relu(conv(xb))\n",
    "        xb = F.adaptive_avg_pool2d(xb, 1)\n",
    "        xb = xb.view(-1,xb.size(1))\n",
    "        return F.log_softmax(xb, dim=-1)"
   ]
  },
  {
   "cell_type": "code",
   "execution_count": 36,
   "metadata": {},
   "outputs": [],
   "source": [
    "def get_model(): return Simple_CNN([1,16,16,10], [3,3,3], [2,2,2]).to(default_device)"
   ]
  },
  {
   "cell_type": "markdown",
   "metadata": {},
   "source": [
    "## First implementation of the training loop"
   ]
  },
  {
   "cell_type": "code",
   "execution_count": 44,
   "metadata": {},
   "outputs": [],
   "source": [
    "def loss_batch(model, xb, yb, loss_fn, opt=None):\n",
    "    loss = loss_fn(model(xb), yb)\n",
    "\n",
    "    if opt is not None:\n",
    "        loss.backward()\n",
    "        opt.step()\n",
    "        opt.zero_grad()\n",
    "        \n",
    "    return loss.item(), len(xb)"
   ]
  },
  {
   "cell_type": "code",
   "execution_count": 45,
   "metadata": {},
   "outputs": [],
   "source": [
    "def fit(epochs, model, loss_fn, opt_fn, lr, train_dl, valid_dl=None):\n",
    "    opt = opt_fn(model.parameters(), lr=lr)\n",
    "\n",
    "    for epoch in range(epochs):\n",
    "        model.train()\n",
    "        for xb,yb in train_dl: loss_batch(model, xb, yb, loss_fn, opt)\n",
    "\n",
    "        model.eval()\n",
    "        if valid_dl is not None:\n",
    "            with torch.no_grad():\n",
    "                losses,nums = zip(*[loss_batch(model, xb, yb, loss_fn)\n",
    "                                for xb,yb in valid_dl])\n",
    "            val_loss = np.sum(np.multiply(losses,nums)) / np.sum(nums)\n",
    "\n",
    "            print(epoch, val_loss)"
   ]
  },
  {
   "cell_type": "code",
   "execution_count": 46,
   "metadata": {},
   "outputs": [],
   "source": [
    "model = get_model()"
   ]
  },
  {
   "cell_type": "code",
   "execution_count": 47,
   "metadata": {},
   "outputs": [],
   "source": [
    "loss_fn = F.nll_loss"
   ]
  },
  {
   "cell_type": "code",
   "execution_count": 49,
   "metadata": {},
   "outputs": [
    {
     "name": "stdout",
     "output_type": "stream",
     "text": [
      "0 0.4102793385028839\n",
      "1 0.5978511169433594\n"
     ]
    }
   ],
   "source": [
    "lr, epochs = 0.5, 2\n",
    "fit(epochs, model, loss_fn, optim.SGD, lr, data.train_dl, data.valid_dl)"
   ]
  },
  {
   "cell_type": "code",
   "execution_count": 50,
   "metadata": {},
   "outputs": [
    {
     "data": {
      "text/plain": [
       "OrderedDict([('convs.0.weight', tensor([[[[ 0.1507,  0.4856,  0.1501],\n",
       "                        [-0.7404,  0.0532, -0.2315],\n",
       "                        [-1.2011, -0.7124, -1.3849]]],\n",
       "              \n",
       "              \n",
       "                      [[[ 0.7201,  0.9290,  2.0633],\n",
       "                        [ 0.2967,  0.8573,  1.4360],\n",
       "                        [ 0.9026,  0.8790,  1.5143]]],\n",
       "              \n",
       "              \n",
       "                      [[[-0.1124,  0.0842, -0.0449],\n",
       "                        [-0.6140, -0.0685, -0.6090],\n",
       "                        [-0.3524, -0.4771, -0.5337]]],\n",
       "              \n",
       "              \n",
       "                      [[[-0.4994, -0.7148, -0.8001],\n",
       "                        [-0.1440,  0.0159, -0.1559],\n",
       "                        [ 0.5427,  0.7280,  0.8784]]],\n",
       "              \n",
       "              \n",
       "                      [[[ 0.3165,  0.1637,  0.0438],\n",
       "                        [ 0.2157,  0.2159, -0.0656],\n",
       "                        [-0.3165, -0.2501,  0.0325]]],\n",
       "              \n",
       "              \n",
       "                      [[[ 0.1073,  0.3204,  0.0283],\n",
       "                        [-0.3997, -0.2676, -0.5418],\n",
       "                        [-0.6027, -0.0134, -0.4498]]],\n",
       "              \n",
       "              \n",
       "                      [[[ 0.5145,  0.8894,  0.5778],\n",
       "                        [ 0.3149,  0.2210,  0.5957],\n",
       "                        [ 0.3399,  0.1227, -0.2639]]],\n",
       "              \n",
       "              \n",
       "                      [[[ 1.6340,  1.0790,  1.1460],\n",
       "                        [ 1.2132,  0.7623,  0.5144],\n",
       "                        [ 1.3204,  0.2201, -0.1480]]],\n",
       "              \n",
       "              \n",
       "                      [[[-0.2688, -0.0277,  0.1590],\n",
       "                        [ 0.2917,  0.0139,  0.2482],\n",
       "                        [-0.1714, -0.2247,  0.2670]]],\n",
       "              \n",
       "              \n",
       "                      [[[-0.1791,  0.0620,  0.2264],\n",
       "                        [-0.3093,  0.1599, -0.2223],\n",
       "                        [-0.3135, -0.2118, -0.1839]]],\n",
       "              \n",
       "              \n",
       "                      [[[-0.0419,  0.5608,  0.8943],\n",
       "                        [-0.2547, -0.1255,  0.3435],\n",
       "                        [ 0.1817, -0.1957,  0.0735]]],\n",
       "              \n",
       "              \n",
       "                      [[[ 0.4318, -0.7049, -0.8402],\n",
       "                        [ 0.6762,  0.0917, -0.4722],\n",
       "                        [ 1.2505,  0.5970,  0.6554]]],\n",
       "              \n",
       "              \n",
       "                      [[[ 1.1207,  0.8931,  0.6046],\n",
       "                        [ 0.5719,  0.3576,  0.1484],\n",
       "                        [ 0.9813, -0.1774, -0.2445]]],\n",
       "              \n",
       "              \n",
       "                      [[[ 0.1948,  0.5794,  0.9146],\n",
       "                        [-0.2797, -0.2006, -0.2302],\n",
       "                        [-0.4874, -0.3122, -0.6436]]],\n",
       "              \n",
       "              \n",
       "                      [[[ 0.0875, -0.0943, -0.2502],\n",
       "                        [ 0.2297, -0.0437, -0.1640],\n",
       "                        [-0.1536, -0.1392, -0.2619]]],\n",
       "              \n",
       "              \n",
       "                      [[[-0.8203, -0.0384, -0.5075],\n",
       "                        [-0.4798,  0.0270, -0.5887],\n",
       "                        [-0.8103, -0.4106, -1.0173]]]], device='cuda:0')),\n",
       "             ('convs.0.bias',\n",
       "              tensor([ 1.2069, -0.0289,  0.9811, -0.0411, -0.1530,  0.6489,  0.0061,\n",
       "                      -0.0208, -0.2541, -0.1837, -0.0024, -0.0355,  0.0142,  0.2123,\n",
       "                      -0.1128,  1.5894], device='cuda:0')),\n",
       "             ('convs.1.weight',\n",
       "              tensor([[[[-1.4195e-01, -3.6648e-01, -2.6484e-01],\n",
       "                        [-3.3204e-01, -5.9883e-01, -2.2239e-01],\n",
       "                        [-5.2163e-01, -5.4435e-01, -2.3327e-01]],\n",
       "              \n",
       "                       [[-4.9903e-01,  5.6311e-01,  1.0970e-01],\n",
       "                        [-7.8875e-01,  8.6212e-01,  1.4495e-01],\n",
       "                        [ 1.9056e-01,  6.0953e-01, -5.2808e-01]],\n",
       "              \n",
       "                       [[-1.0956e-01, -3.0296e-01, -2.5314e-01],\n",
       "                        [-5.0142e-02, -3.3147e-01, -1.8047e-01],\n",
       "                        [-3.8819e-01, -3.8075e-01, -8.7668e-02]],\n",
       "              \n",
       "                       ...,\n",
       "              \n",
       "                       [[ 1.4456e-01, -4.3600e-02, -1.5569e-01],\n",
       "                        [-1.3654e-01, -2.4382e-01, -2.1466e-01],\n",
       "                        [ 2.6644e-04, -7.2799e-03,  4.6398e-02]],\n",
       "              \n",
       "                       [[ 2.9434e-02, -3.2999e-02,  7.6414e-02],\n",
       "                        [-8.4307e-02,  3.2805e-02, -6.6079e-02],\n",
       "                        [ 4.8690e-02, -1.6240e-02,  2.8354e-02]],\n",
       "              \n",
       "                       [[-1.6475e-01, -3.5928e-01, -2.8172e-01],\n",
       "                        [-2.0974e-01, -4.2583e-01, -2.3226e-01],\n",
       "                        [-5.5892e-01, -6.8842e-01, -3.3981e-01]]],\n",
       "              \n",
       "              \n",
       "                      [[[ 7.6893e-01,  4.7916e-01,  6.4850e-01],\n",
       "                        [ 7.0479e-02, -2.2170e-01, -2.5446e-01],\n",
       "                        [ 4.7276e-01,  7.7844e-04, -1.9199e-01]],\n",
       "              \n",
       "                       [[-5.1907e-01, -4.6967e-01, -7.7226e-01],\n",
       "                        [-4.6774e-01, -1.9166e-01, -7.1119e-01],\n",
       "                        [-9.2519e-01,  5.5131e-01,  3.7157e-01]],\n",
       "              \n",
       "                       [[ 5.8111e-01,  4.4785e-01,  5.8621e-01],\n",
       "                        [ 9.4391e-02, -1.9124e-01, -4.7082e-02],\n",
       "                        [ 2.1682e-01, -3.0151e-02, -1.0228e-01]],\n",
       "              \n",
       "                       ...,\n",
       "              \n",
       "                       [[ 2.1965e-01,  1.4459e-01,  2.3939e-01],\n",
       "                        [ 1.1347e-01, -6.6174e-02, -6.6285e-02],\n",
       "                        [ 4.3619e-02, -2.1871e-02, -2.4200e-01]],\n",
       "              \n",
       "                       [[-7.7510e-02, -5.0109e-02,  7.4467e-02],\n",
       "                        [-3.1809e-02, -7.8468e-02,  4.4635e-02],\n",
       "                        [ 2.2699e-02, -4.6725e-02,  8.0687e-02]],\n",
       "              \n",
       "                       [[ 8.1924e-01,  6.0705e-01,  8.4712e-01],\n",
       "                        [ 7.5403e-02, -3.0285e-01, -3.5346e-02],\n",
       "                        [ 4.8325e-01,  4.9476e-02, -1.1137e-01]]],\n",
       "              \n",
       "              \n",
       "                      [[[-1.4269e-01, -1.9415e-01, -1.5502e-01],\n",
       "                        [-4.8300e-02, -2.2411e-01, -1.8922e-01],\n",
       "                        [-3.2280e-01, -3.2404e-01, -1.2504e-01]],\n",
       "              \n",
       "                       [[-8.9874e-01, -1.1149e+00, -4.8955e-01],\n",
       "                        [ 6.6385e-02,  2.9741e-01,  8.1563e-01],\n",
       "                        [ 1.8578e-01,  2.3818e-01,  6.7744e-01]],\n",
       "              \n",
       "                       [[ 3.8085e-02, -5.6997e-02, -8.8360e-02],\n",
       "                        [-1.4515e-01, -6.4090e-04, -2.4948e-01],\n",
       "                        [-2.1360e-01, -2.3686e-01, -2.4124e-01]],\n",
       "              \n",
       "                       ...,\n",
       "              \n",
       "                       [[-4.8655e-02, -1.7429e-03, -1.7204e-01],\n",
       "                        [-2.7367e-02, -1.3354e-01,  4.0378e-02],\n",
       "                        [-8.1899e-02, -1.5739e-01, -3.2052e-02]],\n",
       "              \n",
       "                       [[ 4.1539e-02, -5.9899e-02, -5.2339e-02],\n",
       "                        [-3.1910e-02,  7.9502e-03,  1.7121e-02],\n",
       "                        [-1.1228e-03,  3.0480e-02, -2.6874e-02]],\n",
       "              \n",
       "                       [[ 8.1668e-02, -5.4222e-02, -2.4743e-01],\n",
       "                        [-1.5759e-01, -1.1514e-01, -2.6488e-01],\n",
       "                        [-3.0683e-01, -4.1449e-01, -2.1491e-01]]],\n",
       "              \n",
       "              \n",
       "                      ...,\n",
       "              \n",
       "              \n",
       "                      [[[-7.8340e-02, -6.2979e-02, -1.6025e-02],\n",
       "                        [ 2.2375e-02,  9.1801e-03, -9.4934e-03],\n",
       "                        [ 6.8023e-02, -1.4267e-02,  3.8547e-02]],\n",
       "              \n",
       "                       [[-2.9387e-03, -6.9878e-02, -4.6355e-02],\n",
       "                        [ 3.3229e-02,  6.3213e-03,  6.8223e-03],\n",
       "                        [ 3.4033e-02, -6.4724e-03, -8.1110e-02]],\n",
       "              \n",
       "                       [[ 4.4639e-02, -3.8408e-03, -8.8680e-03],\n",
       "                        [ 1.1629e-02, -4.9552e-02, -3.4456e-02],\n",
       "                        [ 2.9522e-02, -4.6083e-02,  5.6020e-02]],\n",
       "              \n",
       "                       ...,\n",
       "              \n",
       "                       [[-1.8971e-02, -6.5151e-02, -5.0190e-02],\n",
       "                        [-4.8027e-02, -3.0917e-02,  4.8261e-03],\n",
       "                        [-7.7143e-02,  4.1352e-03, -6.9574e-02]],\n",
       "              \n",
       "                       [[-2.8015e-02,  4.8183e-02, -2.6018e-03],\n",
       "                        [ 2.4504e-02,  5.3966e-02,  7.2619e-04],\n",
       "                        [-6.4729e-02, -4.5146e-02, -7.2591e-02]],\n",
       "              \n",
       "                       [[-6.7738e-02, -2.1274e-02,  2.5741e-03],\n",
       "                        [-4.7355e-02, -7.5585e-02,  6.0887e-03],\n",
       "                        [ 1.8701e-02,  1.0963e-02,  6.3475e-03]]],\n",
       "              \n",
       "              \n",
       "                      [[[ 3.5187e-01,  6.6289e-02, -2.0790e-01],\n",
       "                        [ 1.1920e-01,  4.0213e-02, -2.7336e-01],\n",
       "                        [ 2.2076e-01, -2.5985e-02, -2.1913e-01]],\n",
       "              \n",
       "                       [[-2.8099e-01,  5.4596e-01,  1.1597e+00],\n",
       "                        [-7.1858e-01, -4.2240e-01, -1.8161e-01],\n",
       "                        [-3.4010e-01, -3.9485e-01,  1.5582e-01]],\n",
       "              \n",
       "                       [[ 2.4263e-01,  1.0571e-02, -2.1393e-01],\n",
       "                        [ 1.6285e-01,  4.7804e-02, -2.6319e-01],\n",
       "                        [ 4.7955e-02, -3.9735e-02, -1.0614e-01]],\n",
       "              \n",
       "                       ...,\n",
       "              \n",
       "                       [[ 1.8229e-01,  2.8588e-01,  2.5039e-01],\n",
       "                        [-4.2064e-02, -4.9182e-02,  3.6652e-02],\n",
       "                        [ 3.8605e-02,  6.4186e-02,  1.0440e-01]],\n",
       "              \n",
       "                       [[-4.5230e-03,  7.1712e-02,  6.6503e-02],\n",
       "                        [-3.6749e-02, -7.8789e-02,  1.7299e-02],\n",
       "                        [-3.6099e-02,  3.8006e-02,  2.9693e-02]],\n",
       "              \n",
       "                       [[ 2.0274e-01, -9.8390e-02, -3.0000e-01],\n",
       "                        [ 2.6567e-01,  1.2548e-02, -1.9764e-01],\n",
       "                        [ 1.5115e-01, -6.1988e-03, -2.4434e-01]]],\n",
       "              \n",
       "              \n",
       "                      [[[-6.6578e-02, -7.2354e-02,  1.4967e-01],\n",
       "                        [ 1.5097e-01,  8.1744e-02, -1.1516e-01],\n",
       "                        [ 1.3466e-02,  9.0953e-02,  2.0479e-01]],\n",
       "              \n",
       "                       [[ 1.3795e-01,  5.7012e-01,  2.1290e-01],\n",
       "                        [-4.3367e-02,  1.2560e-01,  1.6415e-01],\n",
       "                        [-7.3804e-01, -5.2278e-01, -9.0865e-01]],\n",
       "              \n",
       "                       [[-6.1652e-02, -7.5148e-02,  5.5081e-02],\n",
       "                        [ 8.3176e-03,  2.0321e-02, -6.2612e-02],\n",
       "                        [ 9.3851e-02,  2.2717e-02,  1.3304e-02]],\n",
       "              \n",
       "                       ...,\n",
       "              \n",
       "                       [[ 6.0569e-02, -4.7453e-02, -3.9837e-02],\n",
       "                        [ 2.1385e-01, -4.7200e-02,  8.7326e-02],\n",
       "                        [ 8.3193e-02,  5.3656e-02,  2.8245e-01]],\n",
       "              \n",
       "                       [[ 1.1070e-02, -3.7275e-02, -1.5462e-02],\n",
       "                        [ 2.6008e-02, -6.4475e-02,  4.7464e-02],\n",
       "                        [-3.2769e-02, -4.1213e-02,  2.0573e-03]],\n",
       "              \n",
       "                       [[-9.0797e-02, -2.5249e-02,  9.5059e-02],\n",
       "                        [-1.7277e-01, -1.4725e-01, -1.2561e-01],\n",
       "                        [-7.7189e-02, -5.9792e-02, -4.9051e-02]]]], device='cuda:0')),\n",
       "             ('convs.1.bias',\n",
       "              tensor([-0.2979,  0.2294, -0.2698, -0.0560, -0.1410, -0.1443, -0.3496,\n",
       "                      -0.0964,  0.0053, -0.2359, -0.0420, -0.0924,  0.3295, -0.0877,\n",
       "                      -0.1450, -0.1585], device='cuda:0')),\n",
       "             ('convs.2.weight',\n",
       "              tensor([[[[ 2.2625e-01,  3.6906e-01, -2.9345e-01],\n",
       "                        [ 2.7276e-01,  3.3257e-01, -5.3618e-01],\n",
       "                        [ 2.3792e-01, -4.3242e-01,  1.5605e-01]],\n",
       "              \n",
       "                       [[ 4.7794e-01, -5.5510e-01, -9.1408e-01],\n",
       "                        [ 8.2771e-02, -3.4147e-02, -2.8634e-01],\n",
       "                        [-5.7945e-01, -4.2201e-01, -1.4138e+00]],\n",
       "              \n",
       "                       [[ 4.4569e-01,  2.0626e-02, -1.0621e-01],\n",
       "                        [ 2.2153e-01, -2.3965e-01, -6.2101e-01],\n",
       "                        [-5.2053e-01, -1.0932e+00,  5.0151e-01]],\n",
       "              \n",
       "                       ...,\n",
       "              \n",
       "                       [[-1.7400e-02, -2.4721e-02, -6.8317e-02],\n",
       "                        [-1.5060e-02, -4.2100e-02,  1.3057e-02],\n",
       "                        [-3.0961e-02, -1.1873e-02, -6.2545e-02]],\n",
       "              \n",
       "                       [[ 4.8507e-01,  1.2046e-01, -4.3425e-01],\n",
       "                        [-1.4994e-01,  2.7571e-01, -1.7707e-01],\n",
       "                        [ 2.3341e-01,  7.7314e-01, -4.7182e-02]],\n",
       "              \n",
       "                       [[-6.1570e-01,  2.0116e-01,  5.0191e-02],\n",
       "                        [-8.1948e-02,  5.4275e-01,  1.5365e-01],\n",
       "                        [ 1.2653e-01,  3.9540e-01, -7.1127e-01]]],\n",
       "              \n",
       "              \n",
       "                      [[[ 4.3559e-01,  5.8587e-01, -1.1852e-01],\n",
       "                        [ 6.1654e-01, -3.3095e-01, -1.7530e-01],\n",
       "                        [ 4.8528e-01,  1.9272e-01,  1.5195e-01]],\n",
       "              \n",
       "                       [[ 6.1526e-01,  1.0017e-02, -3.7277e-01],\n",
       "                        [ 2.9523e-01,  2.9942e-03,  1.1690e-01],\n",
       "                        [ 3.9036e-01,  5.4526e-01,  1.0309e-01]],\n",
       "              \n",
       "                       [[ 4.2123e-01, -4.1590e-01, -3.5890e-03],\n",
       "                        [-2.1379e-01, -8.5717e-02, -5.5810e-01],\n",
       "                        [-1.8611e-01,  1.7120e-01,  5.4060e-01]],\n",
       "              \n",
       "                       ...,\n",
       "              \n",
       "                       [[ 6.4976e-02, -7.6510e-02, -6.5272e-02],\n",
       "                        [-7.2305e-02, -5.7130e-02,  4.7458e-02],\n",
       "                        [ 7.5057e-02,  2.7078e-02,  6.9577e-02]],\n",
       "              \n",
       "                       [[ 1.0606e-01, -5.2217e-01,  1.5687e-02],\n",
       "                        [-5.5568e-02, -3.4041e-01, -6.7601e-01],\n",
       "                        [ 5.4168e-01, -3.1748e-01, -3.9371e-03]],\n",
       "              \n",
       "                       [[-2.8551e-03, -6.5670e-01, -5.8912e-01],\n",
       "                        [-4.1361e-01, -1.4762e-01, -1.0945e+00],\n",
       "                        [ 3.9182e-01, -5.6836e-01, -1.3156e-01]]],\n",
       "              \n",
       "              \n",
       "                      [[[-4.2107e-01,  2.6656e-01, -6.8939e-02],\n",
       "                        [ 1.6157e-01, -5.5891e-01, -5.0464e-01],\n",
       "                        [ 2.9534e-01,  5.9578e-01, -6.5835e-02]],\n",
       "              \n",
       "                       [[-5.1793e-01, -1.3768e+00, -3.2485e-01],\n",
       "                        [-8.2850e-03, -4.7812e-02,  3.3074e-01],\n",
       "                        [ 1.9475e-01, -1.1656e+00, -4.1644e-01]],\n",
       "              \n",
       "                       [[-3.3330e-01, -4.5088e-01, -6.4641e-01],\n",
       "                        [ 1.6019e+00,  3.9937e-01,  1.6477e-01],\n",
       "                        [ 4.5844e-01,  5.0187e-01,  2.3129e-01]],\n",
       "              \n",
       "                       ...,\n",
       "              \n",
       "                       [[-1.0074e-02,  1.6469e-02, -2.5692e-02],\n",
       "                        [ 4.5111e-02, -1.6107e-02,  7.4883e-02],\n",
       "                        [-7.6106e-02, -2.9055e-02,  5.6517e-02]],\n",
       "              \n",
       "                       [[ 8.1473e-01,  8.8238e-01,  5.7540e-02],\n",
       "                        [ 4.7602e-01,  2.8211e-01, -1.0454e+00],\n",
       "                        [-1.0874e+00, -3.3564e-01,  1.8121e-01]],\n",
       "              \n",
       "                       [[ 3.7544e-01,  1.0375e+00,  9.2068e-02],\n",
       "                        [ 1.0609e+00, -4.6952e-01, -3.5545e-01],\n",
       "                        [-5.7607e-01, -2.4460e-01,  9.0663e-02]]],\n",
       "              \n",
       "              \n",
       "                      ...,\n",
       "              \n",
       "              \n",
       "                      [[[ 3.5232e-01,  5.2787e-01, -6.7202e-01],\n",
       "                        [ 1.9639e-01,  4.9779e-01, -2.3337e-01],\n",
       "                        [-3.3061e-02,  2.6557e-01,  2.1978e-01]],\n",
       "              \n",
       "                       [[-4.9511e-01, -9.6567e-01, -4.7500e-02],\n",
       "                        [-6.2185e-01, -6.6377e-01, -3.0513e-01],\n",
       "                        [ 1.1652e+00,  5.4194e-01,  1.0483e-01]],\n",
       "              \n",
       "                       [[ 3.7024e-01, -2.3828e-01, -4.1615e-01],\n",
       "                        [ 6.6201e-01,  7.4625e-01,  7.2896e-02],\n",
       "                        [ 2.2593e-01, -1.4586e-01,  8.5102e-02]],\n",
       "              \n",
       "                       ...,\n",
       "              \n",
       "                       [[-8.8745e-03,  8.1313e-02,  8.0664e-02],\n",
       "                        [ 1.5248e-02, -3.1384e-02,  7.7560e-02],\n",
       "                        [ 3.2531e-02,  6.0818e-02,  4.9072e-02]],\n",
       "              \n",
       "                       [[ 4.0603e-01,  7.4116e-01,  6.3673e-01],\n",
       "                        [-3.3786e-01, -1.8837e-01, -4.8025e-01],\n",
       "                        [-1.7439e-01, -1.9144e-01, -3.7743e-01]],\n",
       "              \n",
       "                       [[ 3.3958e-01,  5.0853e-01,  1.6602e-02],\n",
       "                        [ 3.3582e-01, -8.0619e-01, -7.1573e-01],\n",
       "                        [-3.5476e-01, -2.3362e-01, -4.6450e-01]]],\n",
       "              \n",
       "              \n",
       "                      [[[ 3.2212e-01,  2.7372e-01, -2.5582e-02],\n",
       "                        [ 7.7286e-01, -2.7126e-01,  5.7321e-01],\n",
       "                        [-2.8659e-01,  2.1734e-01, -1.0936e-02]],\n",
       "              \n",
       "                       [[ 8.0617e-01, -1.2640e-01, -9.1861e-01],\n",
       "                        [ 1.1548e+00,  5.9261e-01, -3.1201e-01],\n",
       "                        [-8.2748e-01, -1.1992e+00, -5.0094e-01]],\n",
       "              \n",
       "                       [[ 2.4344e-01,  3.2839e-02,  1.1505e-01],\n",
       "                        [-2.9727e-01,  5.6302e-01,  1.8722e-01],\n",
       "                        [-6.4314e-01, -4.6017e-01, -1.4847e-01]],\n",
       "              \n",
       "                       ...,\n",
       "              \n",
       "                       [[-3.3074e-02,  1.0644e-02,  6.1653e-02],\n",
       "                        [-7.5959e-02,  1.9416e-02, -3.3565e-02],\n",
       "                        [ 7.5818e-02,  6.3133e-02,  1.9343e-02]],\n",
       "              \n",
       "                       [[ 5.9835e-01,  4.5774e-01,  1.6283e-01],\n",
       "                        [ 7.1249e-02,  4.3424e-01, -3.6753e-03],\n",
       "                        [ 6.8817e-01,  3.3180e-01, -7.9356e-01]],\n",
       "              \n",
       "                       [[-6.7485e-01, -4.1074e-01,  3.5625e-01],\n",
       "                        [ 1.9845e-01,  3.7617e-01,  6.9057e-01],\n",
       "                        [-5.2024e-01, -3.3310e-01,  8.7199e-02]]],\n",
       "              \n",
       "              \n",
       "                      [[[-1.7545e-01,  3.7357e-01,  1.3356e-01],\n",
       "                        [ 5.7291e-02,  3.6990e-01, -4.2101e-01],\n",
       "                        [-5.0031e-01,  6.2905e-01,  1.0119e+00]],\n",
       "              \n",
       "                       [[-4.2003e-01, -1.1400e+00, -3.9693e-01],\n",
       "                        [-4.8794e-01, -2.4768e-01, -3.2254e-01],\n",
       "                        [ 4.8775e-01,  5.9271e-01,  1.5374e-01]],\n",
       "              \n",
       "                       [[-1.3554e-01, -2.2535e-01, -8.6168e-01],\n",
       "                        [ 1.4110e+00, -5.2722e-01,  9.7393e-03],\n",
       "                        [-9.0342e-02,  4.2211e-01,  1.4207e-01]],\n",
       "              \n",
       "                       ...,\n",
       "              \n",
       "                       [[-6.2489e-02, -4.1441e-03, -4.3570e-02],\n",
       "                        [ 2.3076e-02, -7.7223e-02, -2.9079e-02],\n",
       "                        [-7.0106e-02,  4.7015e-02, -4.1201e-02]],\n",
       "              \n",
       "                       [[-4.2796e-01, -2.0650e-01,  1.0169e-01],\n",
       "                        [ 7.7843e-02,  5.7230e-01,  8.8230e-01],\n",
       "                        [-3.1405e-01,  5.3498e-01,  3.5058e-01]],\n",
       "              \n",
       "                       [[-6.2841e-02, -3.0761e-01, -5.2678e-01],\n",
       "                        [-1.1238e-01,  1.8917e-01,  7.1628e-02],\n",
       "                        [-9.7074e-02,  3.5351e-01, -1.4279e-01]]]], device='cuda:0')),\n",
       "             ('convs.2.bias',\n",
       "              tensor([ 0.0613, -0.1833,  0.0900, -0.3863,  0.0545, -0.2295,  0.0885,\n",
       "                       0.0187,  0.6017,  0.3945], device='cuda:0'))])"
      ]
     },
     "execution_count": 50,
     "metadata": {},
     "output_type": "execute_result"
    }
   ],
   "source": [
    "model.state_dict()"
   ]
  },
  {
   "cell_type": "markdown",
   "metadata": {},
   "source": [
    "## LRFinder from scratch"
   ]
  },
  {
   "cell_type": "code",
   "execution_count": 60,
   "metadata": {},
   "outputs": [],
   "source": [
    "model = get_model()"
   ]
  },
  {
   "cell_type": "code",
   "execution_count": 133,
   "metadata": {},
   "outputs": [],
   "source": [
    "def lr_find(model, loss_fn, opt_fn, train_dl, num_it=200, start_lr=1e-5, end_lr=10):\n",
    "    opt = opt_fn(model.parameters(), lr=start_lr)\n",
    "    #Save the model to begin with.\n",
    "    MDL_PATH = PATH/'models'\n",
    "    MDL_PATH.mkdir(exist_ok=True)\n",
    "    torch.save(model.state_dict(), MDL_PATH/'tmp.pt')\n",
    "    n = 0\n",
    "    model.train()\n",
    "    lrs, losses= [], []\n",
    "    msa_loss, beta = 0, 0.98\n",
    "    min_loss = 0\n",
    "    while n < num_it:\n",
    "        for xb,yb in train_dl: \n",
    "            pct = n / num_it\n",
    "            lr = start_lr * ((end_lr / start_lr) ** pct)\n",
    "            for g in opt.param_groups: g['lr'] = lr\n",
    "            raw_loss = loss_batch(model, xb, yb, loss_fn, opt)[0]\n",
    "            #smoothes the loss with a mean average\n",
    "            msa_loss = beta * msa_loss + (1-beta) * raw_loss\n",
    "            losses.append(msa_loss / (1 - beta ** (n+1)))\n",
    "            lrs.append(lr)\n",
    "            if n==0 or msa_loss < min_loss: min_loss = msa_loss\n",
    "            n += 1\n",
    "            if n== num_it or msa_loss > 4 * min_loss: break\n",
    "\n",
    "    #Reload the initial model\n",
    "    model.load_state_dict(torch.load(MDL_PATH/'tmp.pt'))\n",
    "    \n",
    "    return lrs, losses"
   ]
  },
  {
   "cell_type": "code",
   "execution_count": 146,
   "metadata": {},
   "outputs": [],
   "source": [
    "lrs, losses = lr_find(model, loss_fn, optim.SGD, data.train_dl, end_lr=100)"
   ]
  },
  {
   "cell_type": "code",
   "execution_count": 139,
   "metadata": {},
   "outputs": [
    {
     "data": {
      "image/png": "[encoded data removed]",
      "text/plain": [
       "<Figure size 432x288 with 1 Axes>"
      ]
     },
     "metadata": {},
     "output_type": "display_data"
    }
   ],
   "source": [
    "fig, ax = plt.subplots(1)\n",
    "ax.plot(lrs, losses)\n",
    "ax.set_xscale('log')"
   ]
  },
  {
   "cell_type": "markdown",
   "metadata": {},
   "source": [
    "Plot function"
   ]
  },
  {
   "cell_type": "code",
   "execution_count": 149,
   "metadata": {},
   "outputs": [],
   "source": [
    "def plot_lr(lrs, losses, skip_start=10, skip_end=5):\n",
    "    fig, ax = plt.subplots(1)\n",
    "    lrs = lrs[skip_start:-skip_end] if skip_end !=0 else lrs[skip_start:]\n",
    "    losses = losses[skip_start:-skip_end] if skip_end !=0 else losses[skip_start:]\n",
    "    ax.plot(lrs, losses)\n",
    "    ax.set_xscale('log')"
   ]
  },
  {
   "cell_type": "code",
   "execution_count": 151,
   "metadata": {},
   "outputs": [
    {
     "data": {
      "image/png": "[encoded data removed]",
      "text/plain": [
       "<Figure size 432x288 with 1 Axes>"
      ]
     },
     "metadata": {},
     "output_type": "display_data"
    }
   ],
   "source": [
    "lrs, losses = lr_find(model, loss_fn, optim.SGD, data.train_dl, end_lr=100)\n",
    "plot_lr(lrs, losses)"
   ]
  },
  {
   "cell_type": "markdown",
   "metadata": {},
   "source": [
    "## Put the save and load in outside functions."
   ]
  },
  {
   "cell_type": "code",
   "execution_count": 152,
   "metadata": {},
   "outputs": [],
   "source": [
    "MDL_PATH = PATH/'models'\n",
    "MDL_PATH.mkdir(exist_ok=True)"
   ]
  },
  {
   "cell_type": "code",
   "execution_count": 465,
   "metadata": {},
   "outputs": [],
   "source": [
    "def save_model(model, fname):\n",
    "    torch.save(model.state_dict(), fname)\n",
    "    \n",
    "def load_model(model, fname):\n",
    "    model.load_state_dict(torch.load(fname))"
   ]
  },
  {
   "cell_type": "code",
   "execution_count": 466,
   "metadata": {},
   "outputs": [],
   "source": [
    "def lr_find(model, loss_fn, opt_fn, train_dl, num_it=200, start_lr=1e-5, end_lr=10):\n",
    "    opt = opt_fn(model.parameters(), lr=start_lr)\n",
    "    #Save the model to begin with.\n",
    "    save_model(model, MDL_PATH/'tmp.pt')\n",
    "    n = 0\n",
    "    model.train()\n",
    "    lrs, losses= [], []\n",
    "    msa_loss, beta = 0, 0.98\n",
    "    min_loss = 0\n",
    "    while n < num_it:\n",
    "        for xb,yb in train_dl: \n",
    "            pct = n / num_it\n",
    "            lr = start_lr * ((end_lr / start_lr) ** pct)\n",
    "            for g in opt.param_groups: g['lr'] = lr\n",
    "            raw_loss = loss_batch(model, xb, yb, loss_fn, opt)[0]\n",
    "            #smoothes the loss with a mean average\n",
    "            msa_loss = beta * msa_loss + (1-beta) * raw_loss\n",
    "            losses.append(msa_loss / (1 - beta ** (n+1)))\n",
    "            lrs.append(lr)\n",
    "            if n==0 or msa_loss < min_loss: min_loss = msa_loss\n",
    "            n += 1\n",
    "            if n== num_it or msa_loss > 4 * min_loss: break\n",
    "\n",
    "    #Reload the initial model\n",
    "    load_model(model, MDL_PATH/'tmp.pt')\n",
    "    \n",
    "    return lrs, losses"
   ]
  },
  {
   "cell_type": "markdown",
   "metadata": {},
   "source": [
    "## Creates a scheduler to adjust the LR."
   ]
  },
  {
   "cell_type": "code",
   "execution_count": 467,
   "metadata": {},
   "outputs": [],
   "source": [
    "from enum import IntEnum\n",
    "class VarType(IntEnum):\n",
    "    ''' Data class, each variation type is assigned a number. '''\n",
    "    NO = 1\n",
    "    LINEAR = 2\n",
    "    COSINE = 3\n",
    "    EXPONENTIAL = 4\n",
    "    POLYNOMIAL = 5"
   ]
  },
  {
   "cell_type": "code",
   "execution_count": 468,
   "metadata": {},
   "outputs": [],
   "source": [
    "class Scheduler():\n",
    "    \n",
    "    def __init__(self, opt, hp_name, n_iter, varType, start, end=None, extra=None):\n",
    "        self.opt,self.hp,self.n_iter,self.vType,self.start,self.end,self.extra = opt,hp_name,n_iter,varType,start,end,extra\n",
    "        if self.end is None and not (self.vType in [1,4]): self.end = 0\n",
    "        self.reset()\n",
    "    \n",
    "    def reset(self):\n",
    "        self.n = 0\n",
    "        self.vals = []\n",
    "        self.set_val(self.start)\n",
    "    \n",
    "    def step(self):\n",
    "        self.n += 1\n",
    "        if self.n == self.n_iter: return True\n",
    "        pct = self.n/(self.n_iter-1)\n",
    "        if self.vType == VarType.NO:\n",
    "            self.set_val(self.start)\n",
    "        elif self.vType == VarType.LINEAR:\n",
    "            self.set_val(self.start + pct * (self.end-self.start))\n",
    "        elif self.vType == VarType.COSINE:\n",
    "            cos_out = np.cos(np.pi * pct) + 1\n",
    "            self.set_val(self.end + (self.start-self.end) / 2 * cos_out)\n",
    "        elif self.vType == VarType.EXPONENTIAL:\n",
    "            ratio = self.end / self.start\n",
    "            self.set_val(self.start * (ratio **  pct))\n",
    "        elif self.vType == VarType.POLYNOMIAL:\n",
    "            self.set_val(self.end + (self.start-self.end) * (1 - pct)**self.extra)\n",
    "        return False\n",
    "    \n",
    "    def set_val(self, val):\n",
    "        self.vals.append(val)\n",
    "        for g in self.opt.param_groups:\n",
    "            g[self.hp] = val"
   ]
  },
  {
   "cell_type": "code",
   "execution_count": 469,
   "metadata": {},
   "outputs": [],
   "source": [
    "def lr_find(model, loss_fn, opt_fn, train_dl, n_iter=200, start_lr=1e-5, end_lr=10):\n",
    "    opt = opt_fn(model.parameters(), lr=start_lr)\n",
    "    #Save the model to begin with.\n",
    "    save_model(model, MDL_PATH/'tmp.pt')\n",
    "    model.train()\n",
    "    lrs, losses= [], []\n",
    "    msa_loss, beta = 0, 0.98\n",
    "    min_loss = 0\n",
    "    lr_sched = Scheduler(opt, 'lr', n_iter, VarType.EXPONENTIAL, start_lr, end_lr)\n",
    "    finished = False\n",
    "    while not finished:\n",
    "        for xb,yb in train_dl: \n",
    "            #pdb.set_trace()\n",
    "            raw_loss,_ = loss_batch(model, xb, yb, loss_fn, opt)\n",
    "            #smoothes the loss with a mean average\n",
    "            msa_loss = beta * msa_loss + (1-beta) * raw_loss\n",
    "            losses.append(msa_loss / (1 - beta ** (len(losses)+1)))\n",
    "            finished = lr_sched.step()\n",
    "            if len(losses) == 1 or msa_loss < min_loss: min_loss = msa_loss\n",
    "            if finished or msa_loss > 4 * min_loss: break\n",
    "\n",
    "    #Reload the initial model\n",
    "    load_model(model, MDL_PATH/'tmp.pt')\n",
    "    \n",
    "    return lr_sched.vals, losses"
   ]
  },
  {
   "cell_type": "code",
   "execution_count": 470,
   "metadata": {},
   "outputs": [],
   "source": [
    "model = get_model()"
   ]
  },
  {
   "cell_type": "code",
   "execution_count": 471,
   "metadata": {},
   "outputs": [
    {
     "data": {
      "image/png": "[encoded data removed]",
      "text/plain": [
       "<Figure size 432x288 with 1 Axes>"
      ]
     },
     "metadata": {},
     "output_type": "display_data"
    }
   ],
   "source": [
    "lrs, losses = lr_find(model, loss_fn, optim.SGD, data.train_dl, end_lr=100)\n",
    "plot_lr(lrs, losses)"
   ]
  },
  {
   "cell_type": "markdown",
   "metadata": {},
   "source": [
    "## Refactors inside to use the fit function"
   ]
  },
  {
   "cell_type": "code",
   "execution_count": 389,
   "metadata": {},
   "outputs": [],
   "source": [
    "class Callback():\n",
    "    \n",
    "    def on_train_begin(self): pass\n",
    "    def on_batch_end(self, raw_loss): pass"
   ]
  },
  {
   "cell_type": "code",
   "execution_count": 390,
   "metadata": {},
   "outputs": [],
   "source": [
    "class LossRecorder(Callback):\n",
    "    \n",
    "    beta = 0.98\n",
    "    \n",
    "    def on_train_begin(self):\n",
    "        self.msa_loss,self.losses = 0,[]\n",
    "        \n",
    "    def on_batch_end(self, raw_loss):\n",
    "        self.msa_loss = self.beta * self.msa_loss + (1-self.beta) * raw_loss\n",
    "        self.losses.append(self.msa_loss / (1 - self.beta ** (len(self.losses)+1)))\n",
    "        stop = False\n",
    "        return stop"
   ]
  },
  {
   "cell_type": "code",
   "execution_count": 391,
   "metadata": {},
   "outputs": [],
   "source": [
    "class LRFinderCallback(LossRecorder):\n",
    "    \n",
    "    def __init__(self, opt, n_iter, start_lr, end_lr):\n",
    "        self.sched = Scheduler(opt, 'lr', n_iter, VarType.EXPONENTIAL, start_lr, end_lr)\n",
    "        super().__init__()\n",
    "        \n",
    "    def on_train_begin(self):\n",
    "        self.min_loss = 0\n",
    "        super().on_train_begin()\n",
    "    \n",
    "    def on_batch_end(self, raw_loss):\n",
    "        super().on_batch_end(raw_loss)\n",
    "        loss = self.losses[-1]\n",
    "        if len(self.losses) == 1 or loss < self.min_loss: self.min_loss = loss\n",
    "        stop = self.sched.step()\n",
    "        if loss > 4 * self.min_loss: return True\n",
    "        return stop"
   ]
  },
  {
   "cell_type": "code",
   "execution_count": 392,
   "metadata": {},
   "outputs": [],
   "source": [
    "def loss_batch(model, xb, yb, loss_fn, opt=None):\n",
    "    loss = loss_fn(model(xb), yb)\n",
    "\n",
    "    if opt is not None:\n",
    "        loss.backward()\n",
    "        opt.step()\n",
    "        opt.zero_grad()\n",
    "        \n",
    "    return loss.item(), len(xb)"
   ]
  },
  {
   "cell_type": "markdown",
   "metadata": {},
   "source": [
    "basic_fit differs from fit in the sense it gets an optimizer instead of an opt_fn."
   ]
  },
  {
   "cell_type": "code",
   "execution_count": 393,
   "metadata": {},
   "outputs": [],
   "source": [
    "def basic_fit(epochs, model, loss_fn, opt, train_dl, valid_dl=None, callbacks=[]):\n",
    "    \n",
    "    for cb in callbacks: cb.on_train_begin()\n",
    "    \n",
    "    for epoch in range(epochs):\n",
    "        model.train()\n",
    "        for xb,yb in train_dl: \n",
    "            raw_loss,_ = loss_batch(model, xb, yb, loss_fn, opt)\n",
    "            \n",
    "            stop = False\n",
    "            for cb in callbacks: stop = stop or cb.on_batch_end(raw_loss)\n",
    "            if stop: break  \n",
    "                \n",
    "        model.eval()\n",
    "        if valid_dl is not None:\n",
    "            with torch.no_grad():\n",
    "                losses,nums = zip(*[loss_batch(model, xb, yb, loss_fn)\n",
    "                                for xb,yb in valid_dl])\n",
    "            val_loss = np.sum(np.multiply(losses,nums)) / np.sum(nums)\n",
    "\n",
    "            print(epoch, val_loss)"
   ]
  },
  {
   "cell_type": "code",
   "execution_count": 394,
   "metadata": {},
   "outputs": [],
   "source": [
    "def lr_find(model, loss_fn, opt_fn, train_dl, n_iter=200, start_lr=1e-5, end_lr=10):\n",
    "    opt = opt_fn(model.parameters(), lr=start_lr)\n",
    "    #Save the model to begin with.\n",
    "    save_model(model, MDL_PATH/'tmp.pt')\n",
    "    \n",
    "    cb = LRFinderCallback(opt, n_iter, start_lr, end_lr)\n",
    "    epochs = int(np.ceil(n_iter/len(train_dl)))\n",
    "    basic_fit(epochs, model, loss_fn, opt, train_dl, callbacks=[cb])\n",
    "    \n",
    "    #Reload the initial model\n",
    "    load_model(model, MDL_PATH/'tmp.pt')\n",
    "    \n",
    "    return cb.sched.vals, cb.losses"
   ]
  },
  {
   "cell_type": "code",
   "execution_count": 395,
   "metadata": {},
   "outputs": [],
   "source": [
    "model = get_model()"
   ]
  },
  {
   "cell_type": "code",
   "execution_count": 396,
   "metadata": {},
   "outputs": [
    {
     "data": {
      "image/png": "[encoded data removed]",
      "text/plain": [
       "<Figure size 432x288 with 1 Axes>"
      ]
     },
     "metadata": {},
     "output_type": "display_data"
    }
   ],
   "source": [
    "lrs, losses = lr_find(model, loss_fn, optim.SGD, data.train_dl, end_lr=100)\n",
    "plot_lr(lrs, losses)"
   ]
  },
  {
   "cell_type": "markdown",
   "metadata": {},
   "source": [
    "## Training phases and SGDR"
   ]
  },
  {
   "cell_type": "markdown",
   "metadata": {},
   "source": [
    "A few helper functions. The second one is there to map the names of the hyper-parameters in pytorch optimizers to 'momentum' and 'beta' (whether it's SGD, Adam, RMSProp)"
   ]
  },
  {
   "cell_type": "code",
   "execution_count": 422,
   "metadata": {},
   "outputs": [],
   "source": [
    "def is_tuple(x): return isinstance(x, tuple)"
   ]
  },
  {
   "cell_type": "code",
   "execution_count": 456,
   "metadata": {},
   "outputs": [],
   "source": [
    "def set_val_in_group(val, group, key):\n",
    "    if key == 'momentum' and 'betas' in group:  group['betas'] = (val, group['betas'][1])\n",
    "    elif key == 'beta' and 'betas' in group:    group['betas'] = (group['betas'][0], val)\n",
    "    elif key == 'beta' and 'alpha' in group:    group['alpha'] = val\n",
    "    else:                                       group[key] = val"
   ]
  },
  {
   "cell_type": "code",
   "execution_count": 457,
   "metadata": {},
   "outputs": [],
   "source": [
    "def set_val_in_groups(val, groups, key):\n",
    "    for g in groups: set_val_in_group(val, g, key)"
   ]
  },
  {
   "cell_type": "markdown",
   "metadata": {},
   "source": [
    "To simplify the use of training phase, the args lr and mom can either be:\n",
    "- a single value, then it's assumed to have it constant during the phase\n",
    "- a tuple (lr1, lr2), then the default is to go linearly from one to the other\n",
    "- a tuple (lr1, lr2, VarType), then we go from one to the other using the VarType given."
   ]
  },
  {
   "cell_type": "code",
   "execution_count": 458,
   "metadata": {},
   "outputs": [],
   "source": [
    "class TrainingPhase():\n",
    "    \n",
    "    def __init__(self, epochs, opt_fn, lr, mom=0.9, beta=None, wds=None):\n",
    "        self.epochs,self.opt_fn,self.beta,self.wds = epochs,opt_fn,beta,wds\n",
    "        self.start_lr, self.end_lr, self.lr_vType, self.extra_lr = self.decode(lr)\n",
    "        self.start_mom, self.end_mom, self.mom_vType, self.extra_mom = self.decode(mom)\n",
    "        \n",
    "    def decode(self, vals):\n",
    "        if is_tuple(vals):\n",
    "            if len(vals) == 2: return vals + (VarType.LINEAR, None)\n",
    "            elif len(vals) == 3: return vals + (None,)\n",
    "            else: return vals\n",
    "        else: return vals, None, VarType.NO, None\n",
    "    \n",
    "    def get_scheds(self, opt, n_batch):\n",
    "        if self.beta is not None: set_val_in_groups(self.beta, opt.param_groups, 'beta')\n",
    "        if self.wds is not None: set_val_in_groups(self.wds, opt.param_groups, 'weight_decay')\n",
    "        return [Scheduler(opt, 'lr', n_batch * self.epochs, self.lr_vType, self.start_lr, self.end_lr, self.extra_lr),\n",
    "               Scheduler(opt, 'momentum', n_batch * self.epochs, self.mom_vType, self.start_mom, self.end_mom, self.extra_mom)]"
   ]
  },
  {
   "cell_type": "markdown",
   "metadata": {},
   "source": [
    "Scheduler is adjusted to use the set_val_in_group function."
   ]
  },
  {
   "cell_type": "code",
   "execution_count": 459,
   "metadata": {},
   "outputs": [],
   "source": [
    "class Scheduler():\n",
    "    \n",
    "    def __init__(self, opt, hp_name, n_iter, varType, start, end=None, extra=None):\n",
    "        self.opt,self.hp,self.n_iter,self.vType,self.start,self.end,self.extra = opt,hp_name,n_iter,varType,start,end,extra\n",
    "        if self.end is None and not (self.vType in [1,4]): self.end = 0\n",
    "        self.reset()\n",
    "    \n",
    "    def reset(self):\n",
    "        self.n = 0\n",
    "        self.vals = []\n",
    "        self.set_val(self.start)\n",
    "    \n",
    "    def step(self):\n",
    "        self.n += 1\n",
    "        if self.n == self.n_iter: return True\n",
    "        pct = self.n/(self.n_iter-1)\n",
    "        if self.vType == VarType.NO:\n",
    "            self.set_val(self.start)\n",
    "        elif self.vType == VarType.LINEAR:\n",
    "            self.set_val(self.start + pct * (self.end-self.start))\n",
    "        elif self.vType == VarType.COSINE:\n",
    "            cos_out = np.cos(np.pi * pct) + 1\n",
    "            self.set_val(self.end + (self.start-self.end) / 2 * cos_out)\n",
    "        elif self.vType == VarType.EXPONENTIAL:\n",
    "            ratio = self.end / self.start\n",
    "            self.set_val(self.start * (ratio **  pct))\n",
    "        elif self.vType == VarType.POLYNOMIAL:\n",
    "            self.set_val(self.end + (self.start-self.end) * (1 - pct)**self.extra)\n",
    "        return False\n",
    "    \n",
    "    def set_val(self, val):\n",
    "        self.vals.append(val)\n",
    "        set_val_in_groups(val, self.opt.param_groups, self.hp)"
   ]
  },
  {
   "cell_type": "markdown",
   "metadata": {},
   "source": [
    "The class that handles the phases and make sure we go from one to the next is another Callback."
   ]
  },
  {
   "cell_type": "code",
   "execution_count": 460,
   "metadata": {},
   "outputs": [],
   "source": [
    "class PhaseScheduler(LossRecorder):\n",
    "    \n",
    "    def __init__(self, model, phases, n_batches):\n",
    "        self.model, self.phases, self.n_batches = model, phases, n_batches\n",
    "        super().__init__()\n",
    "        self.phase = 0\n",
    "        self.opt = None\n",
    "        self.init_phase()\n",
    "    \n",
    "    def init_phase(self):\n",
    "        cur_phase = self.phases[self.phase]\n",
    "        #Updates the optimizer\n",
    "        #Replacing self.model.parameters() by a function that returns the trainable parameters will handle freezing.\n",
    "        new_opt = cur_phase.opt_fn(self.model.parameters(), lr=cur_phase.start_lr)\n",
    "        if self.opt is None or type(self.opt) != type(new_opt): self.opt = new_opt\n",
    "        #Creates the various schedulers\n",
    "        self.scheds = cur_phase.get_scheds(self.opt, self.n_batches)\n",
    "        \n",
    "    def on_batch_end(self, raw_loss):\n",
    "        super().on_batch_end(raw_loss)\n",
    "        finished = False\n",
    "        for sched in self.scheds: finished = finished or sched.step()\n",
    "        if finished:\n",
    "            self.phase += 1\n",
    "            if self.phase == len(self.phases): return True\n",
    "            self.init_phase()"
   ]
  },
  {
   "cell_type": "markdown",
   "metadata": {},
   "source": [
    "fitting with phases is then super easy"
   ]
  },
  {
   "cell_type": "code",
   "execution_count": 461,
   "metadata": {},
   "outputs": [],
   "source": [
    "def fit_phases(phases, model, loss_fn, train_dl, valid_dl=None, callbacks=[]):\n",
    "    epochs = int(np.ceil(sum([p.epochs for p in phases])))\n",
    "    cb = PhaseScheduler(model, phases, len(train_dl))\n",
    "    basic_fit(epochs, model, loss_fn, cb.opt, train_dl, valid_dl, callbacks=[cb])"
   ]
  },
  {
   "cell_type": "markdown",
   "metadata": {},
   "source": [
    "An example of what a helper function could be."
   ]
  },
  {
   "cell_type": "code",
   "execution_count": 462,
   "metadata": {},
   "outputs": [],
   "source": [
    "def sgdr_phases(lr, opt_fn, n_cycle, cyc_len, cyc_mul, mom=0.9, wds=None):\n",
    "    phases = [TrainingPhase(0.05, opt_fn, lr/100, mom, wds)]\n",
    "    for i in range(n_cycle):\n",
    "        epochs = cyc_len - 0.05 if i==0 else cyc_len * (cyc_mul ** i)\n",
    "        phases.append(TrainingPhase(epochs, opt_fn, (lr,0,VarType.COSINE), mom, wds))\n",
    "    return phases"
   ]
  },
  {
   "cell_type": "code",
   "execution_count": 463,
   "metadata": {},
   "outputs": [],
   "source": [
    "model = get_model()"
   ]
  },
  {
   "cell_type": "code",
   "execution_count": 464,
   "metadata": {},
   "outputs": [
    {
     "name": "stdout",
     "output_type": "stream",
     "text": [
      "0 1.347146787261963\n",
      "1 0.69737041015625\n",
      "2 0.5230010066509246\n"
     ]
    }
   ],
   "source": [
    "fit_phases(sgdr_phases(1, optim.SGD, 2, 1, 2, wds=1e-4), model, loss_fn, data.train_dl, data.valid_dl)"
   ]
  },
  {
   "cell_type": "markdown",
   "metadata": {},
   "source": [
    "## Changes scheduler to handle differential learning rates"
   ]
  },
  {
   "cell_type": "code",
   "execution_count": 414,
   "metadata": {},
   "outputs": [],
   "source": [
    "import collections\n",
    "def is_iter(x): return isinstance(x,collections.Iterable)"
   ]
  },
  {
   "cell_type": "markdown",
   "metadata": {},
   "source": [
    "As long as the values given are numpy arrays, the scheduler can handle differential learning rates."
   ]
  },
  {
   "cell_type": "code",
   "execution_count": 418,
   "metadata": {},
   "outputs": [],
   "source": [
    "class Scheduler():\n",
    "    \n",
    "    def __init__(self, opt, hp_name, n_iter, varType, start, end=None, extra=None):\n",
    "        self.opt,self.hp,self.n_iter,self.vType,self.start,self.end,self.extra = opt,hp_name,n_iter,varType,start,end,extra\n",
    "        if self.end is None and not (self.vType in [1,4]): self.end = 0\n",
    "        self.reset()\n",
    "    \n",
    "    def reset(self):\n",
    "        self.n = 0\n",
    "        self.vals = []\n",
    "        self.set_val(self.start)\n",
    "    \n",
    "    def step(self):\n",
    "        self.n += 1\n",
    "        if self.n == self.n_iter: return True\n",
    "        pct = self.n/(self.n_iter-1)\n",
    "        if self.vType == VarType.LINEAR:\n",
    "            self.set_val(self.start + pct * (self.end-self.start))\n",
    "        elif self.vType == VarType.COSINE:\n",
    "            cos_out = np.cos(np.pi * pct) + 1\n",
    "            self.set_val(self.end + (self.start-self.end) / 2 * cos_out)\n",
    "        elif self.vType == VarType.EXPONENTIAL:\n",
    "            ratio = self.end / self.start\n",
    "            self.set_val(self.start * (ratio **  pct))\n",
    "        elif self.vType == VarType.POLYNOMIAL:\n",
    "            self.set_val(self.end + (self.start-self.end) * (1 - pct)**self.extra)\n",
    "        return False\n",
    "    \n",
    "    def set_val(self, val):\n",
    "        if is_iter(val): self.vals.append(val[-1])\n",
    "        else: \n",
    "            self.vals.append(val)\n",
    "            val = [val]\n",
    "        if len(val) == 1: val = val * len(param_group)\n",
    "        assert(len(val) == len(param_group))\n",
    "        for v, g in zip(val,param_group):\n",
    "            set_val_in_group(v, g, self.hp)"
   ]
  },
  {
   "cell_type": "code",
   "execution_count": null,
   "metadata": {},
   "outputs": [],
   "source": []
  }
 ],
 "metadata": {
  "kernelspec": {
   "display_name": "Python 3",
   "language": "python",
   "name": "python3"
  },
  "language_info": {
   "codemirror_mode": {
    "name": "ipython",
    "version": 3
   },
   "file_extension": ".py",
   "mimetype": "text/x-python",
   "name": "python",
   "nbconvert_exporter": "python",
   "pygments_lexer": "ipython3",
   "version": "3.6.4"
  }
 },
 "nbformat": 4,
 "nbformat_minor": 2
}
